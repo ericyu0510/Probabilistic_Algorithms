{
 "cells": [
  {
   "cell_type": "code",
   "execution_count": 1,
   "id": "0b819951",
   "metadata": {},
   "outputs": [],
   "source": [
    "import csv\n",
    "import pandas as pd\n",
    "from nltk.util import trigrams\n",
    "from sklearn.utils import murmurhash3_32\n",
    "from collections import defaultdict\n",
    "import random\n",
    "import numpy as np\n",
    "import matplotlib.pyplot as plt\n",
    "import time\n",
    "\n",
    "random.seed(42)"
   ]
  },
  {
   "cell_type": "markdown",
   "id": "86fb9162",
   "metadata": {},
   "source": [
    "# Task 0"
   ]
  },
  {
   "cell_type": "code",
   "execution_count": 2,
   "id": "466833db",
   "metadata": {},
   "outputs": [],
   "source": [
    "def jaccard_similarity(string1, string2) -> float:\n",
    "    trig1 = list(trigrams([c for c in string1]))\n",
    "    trig_str1 = [''.join(x) for x in trig1]\n",
    "    \n",
    "    trig2 = list(trigrams([c for c in string2]))\n",
    "    trig_str2 = [''.join(x) for x in trig2]\n",
    "    \n",
    "    return len(set(trig_str1) & set(trig_str2)) / len(set(trig_str1) | set(trig_str2))"
   ]
  },
  {
   "cell_type": "code",
   "execution_count": 3,
   "id": "5e0eaf23",
   "metadata": {},
   "outputs": [],
   "source": [
    "def MinHash (input_str: str, m: int, R: int, table: int = 0):\n",
    "    trigs = list(trigrams([c for c in input_str]))\n",
    "    res = []\n",
    "    for i in range(m):\n",
    "        minhash = float('inf')\n",
    "        for trig in trigs:\n",
    "            trig_str = ''.join(trig)\n",
    "            minhash = min(minhash, murmurhash3_32(trig_str, seed=table*100+i, positive=True) % R)\n",
    "        res.append(minhash)\n",
    "    return res"
   ]
  },
  {
   "cell_type": "code",
   "execution_count": null,
   "id": "9d16a14f",
   "metadata": {},
   "outputs": [],
   "source": []
  },
  {
   "cell_type": "code",
   "execution_count": 4,
   "id": "95f7e02e",
   "metadata": {},
   "outputs": [
    {
     "name": "stdout",
     "output_type": "stream",
     "text": [
      "0.5228070175438596\n",
      "0.58\n"
     ]
    }
   ],
   "source": [
    "string1 = \"The mission statement of the WCSCC and area employers recognize the importance of good attendance on the job. Any student whose absences exceed 18 days is jeopardizing their opportunity for advanced placement as well as hindering his/her likelihood for successfully completing their program.\"\n",
    "string2 = \"The WCSCC’s mission statement and surrounding employers recognize the importance of great attendance. Any student who is absent more than 18 days will loose the opportunity for successfully completing their trade program.\"\n",
    "\n",
    "real_jaccard = jaccard_similarity(string1, string2)\n",
    "print(real_jaccard)\n",
    "\n",
    "m = 100\n",
    "MinHash_str1 = MinHash(string1, m, 2**20)\n",
    "MinHash_str2 = MinHash(string2, m, 2**20)\n",
    "\n",
    "MinHash_similarity = sum([1 if MinHash_str1[i] == MinHash_str2[i] else 0 for i in range(m)])/m\n",
    "print(MinHash_similarity)"
   ]
  },
  {
   "cell_type": "code",
   "execution_count": 5,
   "id": "6818e84b",
   "metadata": {},
   "outputs": [],
   "source": [
    "class HashTable():\n",
    "    def __init__ (self, K = 2, L = 50, B = 64, R = 2**20):\n",
    "        self.K = K\n",
    "        self.L = L\n",
    "        self.B = B\n",
    "        self.R = R\n",
    "        self.hash_tables = [defaultdict(list) for _ in range(self.L)]\n",
    "        self.hash_coeffs = []\n",
    "                \n",
    "        for i in range(self.L):\n",
    "            self.hash_coeffs.append(random.sample(range(10000000), self.K))\n",
    "            \n",
    "    def insert (self, hashcodes , id):\n",
    "        for i in range(self.L):\n",
    "            bucket = sum([a*b for (a, b) in zip(hashcodes[i], self.hash_coeffs[i])]) % self.R\n",
    "            self.hash_tables[i][bucket].append(id)\n",
    "            \n",
    "    def lookup (self, hashcodes ):\n",
    "        union_set = set()\n",
    "        for i in range(self.L):\n",
    "            bucket = sum([a*b for (a, b) in zip(hashcodes[i], self.hash_coeffs[i])]) % self.R\n",
    "            union_set |= set(self.hash_tables[i][bucket])\n",
    "        return list(union_set)"
   ]
  },
  {
   "cell_type": "code",
   "execution_count": 6,
   "id": "d4e94296",
   "metadata": {},
   "outputs": [],
   "source": [
    "data = pd.read_csv(\"user-ct-test-collection-01.txt\", sep=\"\\t\")\n",
    "all_urllist = data.ClickURL.dropna().unique()\n",
    "urllist = all_urllist[:10000]"
   ]
  },
  {
   "cell_type": "code",
   "execution_count": 7,
   "id": "b20a5ea9",
   "metadata": {},
   "outputs": [
    {
     "data": {
      "text/plain": [
       "10000"
      ]
     },
     "execution_count": 7,
     "metadata": {},
     "output_type": "execute_result"
    }
   ],
   "source": [
    "len(urllist)"
   ]
  },
  {
   "cell_type": "code",
   "execution_count": 8,
   "id": "0fb7fc5a",
   "metadata": {},
   "outputs": [],
   "source": [
    "L = 50\n",
    "K = 2\n",
    "R = 2 ** 20"
   ]
  },
  {
   "cell_type": "code",
   "execution_count": 9,
   "id": "cdaa25f3",
   "metadata": {
    "scrolled": true
   },
   "outputs": [],
   "source": [
    "h_table = HashTable()\n",
    "\n",
    "for url in urllist:\n",
    "    url_hashcodes = []\n",
    "    for i in range(L):\n",
    "        url_hashcodes.append(MinHash(url, K, R, i))\n",
    "    h_table.insert(url_hashcodes, url)"
   ]
  },
  {
   "cell_type": "code",
   "execution_count": null,
   "id": "90cca014",
   "metadata": {},
   "outputs": [],
   "source": []
  },
  {
   "cell_type": "markdown",
   "id": "3669df99",
   "metadata": {},
   "source": [
    "# Task 1"
   ]
  },
  {
   "cell_type": "code",
   "execution_count": 10,
   "id": "24238d74",
   "metadata": {},
   "outputs": [],
   "source": [
    "sample_urls_index = random.sample(range(len(urllist)), 200)"
   ]
  },
  {
   "cell_type": "code",
   "execution_count": 11,
   "id": "7467c0a9",
   "metadata": {},
   "outputs": [],
   "source": [
    "\n",
    "sample_urls_hashcodes = []\n",
    "for url_index in sample_urls_index:\n",
    "    sample_url_hashcodes = []\n",
    "    for i in range(L):\n",
    "        sample_url_hashcodes.append(MinHash(urllist[url_index], K, R, i))\n",
    "    sample_urls_hashcodes.append(sample_url_hashcodes)"
   ]
  },
  {
   "cell_type": "code",
   "execution_count": 14,
   "id": "30939fa9",
   "metadata": {},
   "outputs": [
    {
     "data": {
      "text/plain": [
       "200"
      ]
     },
     "execution_count": 14,
     "metadata": {},
     "output_type": "execute_result"
    }
   ],
   "source": [
    "len(sample_urls_hashcodes)"
   ]
  },
  {
   "cell_type": "code",
   "execution_count": 15,
   "id": "cdd4abec",
   "metadata": {},
   "outputs": [],
   "source": [
    "# task 1-1\n",
    "start = time.time()\n",
    "avg_jaccard_similarity = []\n",
    "for i, sample_url_hashcodes in enumerate(sample_urls_hashcodes):\n",
    "    union_bucket_items = h_table.lookup(sample_urls_hashcodes[i])\n",
    "    s = 0\n",
    "    for item in union_bucket_items:\n",
    "        s += (jaccard_similarity(urllist[sample_urls_index[i]], item))\n",
    "    avg = s / len(union_bucket_items)\n",
    "    avg_jaccard_similarity.append(avg)\n",
    "end = time.time()"
   ]
  },
  {
   "cell_type": "code",
   "execution_count": 16,
   "id": "a367ba0e",
   "metadata": {},
   "outputs": [
    {
     "name": "stdout",
     "output_type": "stream",
     "text": [
      "mean Jaccard similarity:  0.24847518065976698\n"
     ]
    }
   ],
   "source": [
    "# task 1-1 result\n",
    "jaccard_similarity_url_retrieved = sum(avg_jaccard_similarity)/len(avg_jaccard_similarity)\n",
    "print(\"mean Jaccard similarity: \", jaccard_similarity_url_retrieved)"
   ]
  },
  {
   "cell_type": "code",
   "execution_count": 17,
   "id": "a4d885f0",
   "metadata": {},
   "outputs": [],
   "source": [
    "# task 1-2\n",
    "urls_jaccard_similarity = []\n",
    "for i, sample_url_hashcodes in enumerate(sample_urls_hashcodes):\n",
    "    union_bucket_items = h_table.lookup(sample_urls_hashcodes[i])\n",
    "    url_jaccard_similarity = []\n",
    "    for item in union_bucket_items:\n",
    "        url_jaccard_similarity.append(jaccard_similarity(urllist[sample_urls_index[i]], item))\n",
    "    urls_jaccard_similarity.append(url_jaccard_similarity)\n",
    "top10_avg_jaccard_similarity = []\n",
    "for url_jaccard_similarity in urls_jaccard_similarity:\n",
    "    # there is a possibility that the union bucket has < 10 items\n",
    "    top10_avg_jaccard_similarity.append(sum(sorted(url_jaccard_similarity, reverse=True)[:10])/min(len(url_jaccard_similarity), 10))"
   ]
  },
  {
   "cell_type": "code",
   "execution_count": 29,
   "id": "ffeeb607",
   "metadata": {},
   "outputs": [
    {
     "name": "stdout",
     "output_type": "stream",
     "text": [
      "top 10 Jaccard similarity mean: 0.5287181139486035\n"
     ]
    }
   ],
   "source": [
    "# task 1-2 result\n",
    "top10_jaccard_similarity_url_retrieved = sum(top10_avg_jaccard_similarity)/len(top10_avg_jaccard_similarity)\n",
    "print(\"top 10 Jaccard similarity mean:\", top10_jaccard_similarity_url_retrieved)"
   ]
  },
  {
   "cell_type": "code",
   "execution_count": 19,
   "id": "5dc73771",
   "metadata": {},
   "outputs": [
    {
     "name": "stdout",
     "output_type": "stream",
     "text": [
      "total time: 45.164732694625854 sec\n",
      "time per query 0.22582366347312927 sec\n"
     ]
    }
   ],
   "source": [
    "# task 1-3 query time\n",
    "print(\"total time:\", end - start, \"sec\")\n",
    "print(\"time per query\", (end - start)/len(sample_urls_hashcodes), \"sec\")"
   ]
  },
  {
   "cell_type": "markdown",
   "id": "f48fb111",
   "metadata": {},
   "source": [
    "# Task 2"
   ]
  },
  {
   "cell_type": "code",
   "execution_count": 20,
   "id": "596dabea",
   "metadata": {},
   "outputs": [
    {
     "name": "stdout",
     "output_type": "stream",
     "text": [
      "total time:  58.709702491760254 sec\n"
     ]
    }
   ],
   "source": [
    "start = time.time()\n",
    "for sample_url_index in sample_urls_index:\n",
    "    for url in urllist:\n",
    "        jaccard_similarity(urllist[sample_url_index], url)\n",
    "end = time.time()\n",
    "print(\"total time: \", end-start, \"sec\")"
   ]
  },
  {
   "cell_type": "code",
   "execution_count": 21,
   "id": "8024d17c",
   "metadata": {},
   "outputs": [
    {
     "name": "stdout",
     "output_type": "stream",
     "text": [
      "time per query:  0.29354851245880126 sec\n"
     ]
    }
   ],
   "source": [
    "print(\"time per query: \", (end-start)/len(sample_urls_index), \"sec\")"
   ]
  },
  {
   "cell_type": "code",
   "execution_count": 22,
   "id": "f0586c35",
   "metadata": {},
   "outputs": [
    {
     "name": "stdout",
     "output_type": "stream",
     "text": [
      "expected time for whole dataset 2218.4635280561447 sec\n"
     ]
    }
   ],
   "source": [
    "expected_time = (end-start)/len(urllist)*len(all_urllist)\n",
    "print(\"expected time for whole dataset\", expected_time, \"sec\")"
   ]
  },
  {
   "cell_type": "markdown",
   "id": "560f97f5",
   "metadata": {},
   "source": [
    "# Task 3"
   ]
  },
  {
   "cell_type": "code",
   "execution_count": 23,
   "id": "fa983d24",
   "metadata": {},
   "outputs": [
    {
     "name": "stdout",
     "output_type": "stream",
     "text": [
      "K= 2  L= 20  mean jaccard similarity= 0.27094560474370044\n",
      "total time:  35.49544072151184 sec\n",
      "time per query:  0.1774772036075592 sec \n",
      "\n",
      "K= 2  L= 50  mean jaccard similarity= 0.24847518873030106\n",
      "total time:  70.20072507858276 sec\n",
      "time per query:  0.3510036253929138 sec \n",
      "\n",
      "K= 2  L= 100  mean jaccard similarity= 0.2412613630186805\n",
      "total time:  100.47575902938843 sec\n",
      "time per query:  0.5023787951469422 sec \n",
      "\n",
      "K= 3  L= 20  mean jaccard similarity= 0.3044444862394347\n",
      "total time:  27.32562756538391 sec\n",
      "time per query:  0.13662813782691954 sec \n",
      "\n",
      "K= 3  L= 50  mean jaccard similarity= 0.2595584663248303\n",
      "total time:  67.22969150543213 sec\n",
      "time per query:  0.33614845752716066 sec \n",
      "\n",
      "K= 3  L= 100  mean jaccard similarity= 0.2540646389010666\n",
      "total time:  106.23549556732178 sec\n",
      "time per query:  0.5311774778366088 sec \n",
      "\n",
      "K= 4  L= 20  mean jaccard similarity= 0.385069539009368\n",
      "total time:  22.280898571014404 sec\n",
      "time per query:  0.11140449285507202 sec \n",
      "\n",
      "K= 4  L= 50  mean jaccard similarity= 0.29569516232668475\n",
      "total time:  61.60859179496765 sec\n",
      "time per query:  0.30804295897483824 sec \n",
      "\n",
      "K= 4  L= 100  mean jaccard similarity= 0.28356403792362533\n",
      "total time:  116.56163024902344 sec\n",
      "time per query:  0.5828081512451172 sec \n",
      "\n",
      "K= 5  L= 20  mean jaccard similarity= 0.46774246525280516\n",
      "total time:  27.71477246284485 sec\n",
      "time per query:  0.13857386231422425 sec \n",
      "\n",
      "K= 5  L= 50  mean jaccard similarity= 0.3648007609198249\n",
      "total time:  63.567052602767944 sec\n",
      "time per query:  0.31783526301383974 sec \n",
      "\n",
      "K= 5  L= 100  mean jaccard similarity= 0.32982208996932916\n",
      "total time:  120.62453937530518 sec\n",
      "time per query:  0.6031226968765259 sec \n",
      "\n",
      "K= 6  L= 20  mean jaccard similarity= 0.5566999870426408\n",
      "total time:  27.90599536895752 sec\n",
      "time per query:  0.1395299768447876 sec \n",
      "\n",
      "K= 6  L= 50  mean jaccard similarity= 0.4430583868033286\n",
      "total time:  68.72611427307129 sec\n",
      "time per query:  0.34363057136535646 sec \n",
      "\n",
      "K= 6  L= 100  mean jaccard similarity= 0.38695778616886956\n",
      "total time:  134.71225261688232 sec\n",
      "time per query:  0.6735612630844117 sec \n",
      "\n"
     ]
    }
   ],
   "source": [
    "for K in [2, 3, 4, 5, 6]:\n",
    "    for L in [20, 50, 100]:\n",
    "        start = time.time()\n",
    "        h_table = HashTable(K=K, L=L)\n",
    "        for url in urllist:\n",
    "            url_hashcodes = []\n",
    "            for i in range(L):\n",
    "                url_hashcodes.append(MinHash(url, K, R, i))\n",
    "            h_table.insert(url_hashcodes, url)\n",
    "        \n",
    "        sample_urls_hashcodes = []\n",
    "        for url_index in sample_urls_index:\n",
    "            sample_url_hashcodes = []\n",
    "            for i in range(L):\n",
    "                sample_url_hashcodes.append( MinHash(urllist[url_index], K, R, i) )\n",
    "            sample_urls_hashcodes.append(sample_url_hashcodes)\n",
    "            \n",
    "        avg_jaccard_similarity = []\n",
    "        for i, sample_url_hashcodes in enumerate(sample_urls_hashcodes):\n",
    "            union_bucket_items = h_table.lookup(sample_urls_hashcodes[i])\n",
    "            s = 0\n",
    "            for item in union_bucket_items:\n",
    "                s += (jaccard_similarity(urllist[sample_urls_index[i]], item))\n",
    "            avg = s / len(union_bucket_items)\n",
    "            avg_jaccard_similarity.append(avg)\n",
    "        end = time.time()\n",
    "        \n",
    "        jaccard_similarity_url_retrieved = sum(avg_jaccard_similarity)/len(avg_jaccard_similarity)\n",
    "        print(\"K=\",K,\" L=\", L,\" mean jaccard similarity=\", jaccard_similarity_url_retrieved)\n",
    "        print(\"total time: \", end-start, \"sec\")\n",
    "        print(\"time per query: \", (end-start)/len(sample_urls_index), \"sec\", \"\\n\")"
   ]
  },
  {
   "cell_type": "markdown",
   "id": "6e061b03",
   "metadata": {},
   "source": [
    "# Task 4"
   ]
  },
  {
   "cell_type": "code",
   "execution_count": 24,
   "id": "fcfe0df7",
   "metadata": {},
   "outputs": [],
   "source": [
    "# Plot 1\n",
    "L = 50\n",
    "j_x = np.linspace(0, 1, 200)\n",
    "p_x = []\n",
    "for K in [1, 2, 3, 4, 5, 6, 7]:\n",
    "    tmp = []\n",
    "    for x in j_x:\n",
    "        p = 1-(1-x**K)**L\n",
    "        tmp.append(p)\n",
    "    p_x.append(tmp)"
   ]
  },
  {
   "cell_type": "code",
   "execution_count": 25,
   "id": "296b5457",
   "metadata": {},
   "outputs": [
    {
     "data": {
      "image/png": "[encoded data removed]",
      "text/plain": [
       "<Figure size 432x288 with 1 Axes>"
      ]
     },
     "metadata": {
      "needs_background": "light"
     },
     "output_type": "display_data"
    }
   ],
   "source": [
    "plt.plot(j_x, p_x[0], color = 'red', label='K=1')\n",
    "plt.plot(j_x, p_x[1], color = 'orange', label='K=2')\n",
    "plt.plot(j_x, p_x[2], color = 'yellow', label='K=3')\n",
    "plt.plot(j_x, p_x[3], color = 'green', label='K=4')\n",
    "plt.plot(j_x, p_x[4], color = 'blue', label='K=5')\n",
    "plt.plot(j_x, p_x[5], color = 'brown', label='K=6')\n",
    "plt.plot(j_x, p_x[6], color = 'purple', label='K=7')\n",
    "\n",
    "plt.xlabel(\"Jaccard Similarity (Jx)\")\n",
    "plt.ylabel(\"Probability of retrieving (Px)\")\n",
    "plt.title(\"S-curve   L = 50\")\n",
    "plt.legend()\n",
    "plt.show()"
   ]
  },
  {
   "cell_type": "code",
   "execution_count": 26,
   "id": "968a195f",
   "metadata": {},
   "outputs": [],
   "source": [
    "# Plot 2\n",
    "K = 4\n",
    "j_x = np.linspace(0, 1, 200)\n",
    "p_x = []\n",
    "for L in [5, 10, 20, 50, 100, 150, 200]:\n",
    "    tmp = []\n",
    "    for x in j_x:\n",
    "        p = 1-(1-x**K)**L\n",
    "        tmp.append(p)\n",
    "    p_x.append(tmp)"
   ]
  },
  {
   "cell_type": "code",
   "execution_count": 27,
   "id": "3066024c",
   "metadata": {},
   "outputs": [
    {
     "data": {
      "image/png": "[encoded data removed]",
      "text/plain": [
       "<Figure size 432x288 with 1 Axes>"
      ]
     },
     "metadata": {
      "needs_background": "light"
     },
     "output_type": "display_data"
    }
   ],
   "source": [
    "plt.plot(j_x, p_x[0], color = 'red', label='L=5')\n",
    "plt.plot(j_x, p_x[1], color = 'orange', label='L=10')\n",
    "plt.plot(j_x, p_x[2], color = 'yellow', label='L=20')\n",
    "plt.plot(j_x, p_x[3], color = 'green', label='L=50')\n",
    "plt.plot(j_x, p_x[4], color = 'blue', label='L=100')\n",
    "plt.plot(j_x, p_x[5], color = 'brown', label='L=150')\n",
    "plt.plot(j_x, p_x[6], color = 'purple', label='L=200')\n",
    "\n",
    "plt.xlabel(\"Jaccard Similarity (Jx)\")\n",
    "plt.ylabel(\"Probability of retrieving (Px)\")\n",
    "plt.title(\"S-curve   K = 4\")\n",
    "plt.legend()\n",
    "plt.show()"
   ]
  },
  {
   "cell_type": "code",
   "execution_count": null,
   "id": "3ad5a99e",
   "metadata": {},
   "outputs": [],
   "source": []
  }
 ],
 "metadata": {
  "kernelspec": {
   "display_name": "Python 3",
   "language": "python",
   "name": "python3"
  },
  "language_info": {
   "codemirror_mode": {
    "name": "ipython",
    "version": 3
   },
   "file_extension": ".py",
   "mimetype": "text/x-python",
   "name": "python",
   "nbconvert_exporter": "python",
   "pygments_lexer": "ipython3",
   "version": "3.7.7"
  }
 },
 "nbformat": 4,
 "nbformat_minor": 5
}
